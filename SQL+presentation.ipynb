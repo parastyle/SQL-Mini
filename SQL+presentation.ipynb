{
 "cells": [
  {
   "cell_type": "markdown",
   "metadata": {},
   "source": [
    "## Talk is cheap, lets make a database and query it.  \n",
    "### For this presentation on my experience in SQL; I'll be taking a dataset I made by hydrating tweets from the 2016 presidential election and scraping tweets from their retweet sources to make the beginnings of an extendable database.\n",
    "#### I'll be combining 6k tweets from Hillary and Trump with approx. 100 tweets from every source they've retweeted from in those original 6k.\n"
   ]
  },
  {
   "cell_type": "code",
   "execution_count": 257,
   "metadata": {},
   "outputs": [],
   "source": [
    "import os\n",
    "import json\n",
    "import itertools\n",
    "import ast\n",
    "import pandas as pd\n",
    "import sqlite3 \n",
    "import sqlalchemy\n",
    "from sqlalchemy import create_engine"
   ]
  },
  {
   "cell_type": "code",
   "execution_count": 318,
   "metadata": {},
   "outputs": [
    {
     "data": {
      "text/html": [
       "<div>\n",
       "<style>\n",
       "    .dataframe thead tr:only-child th {\n",
       "        text-align: right;\n",
       "    }\n",
       "\n",
       "    .dataframe thead th {\n",
       "        text-align: left;\n",
       "    }\n",
       "\n",
       "    .dataframe tbody tr th {\n",
       "        vertical-align: top;\n",
       "    }\n",
       "</style>\n",
       "<table border=\"1\" class=\"dataframe\">\n",
       "  <thead>\n",
       "    <tr style=\"text-align: right;\">\n",
       "      <th></th>\n",
       "      <th>id</th>\n",
       "      <th>handle</th>\n",
       "      <th>text</th>\n",
       "      <th>is_retweet</th>\n",
       "      <th>original_author</th>\n",
       "      <th>time</th>\n",
       "      <th>in_reply_to_screen_name</th>\n",
       "      <th>in_reply_to_status_id</th>\n",
       "      <th>in_reply_to_user_id</th>\n",
       "      <th>is_quote_status</th>\n",
       "      <th>...</th>\n",
       "      <th>place_type</th>\n",
       "      <th>place_country_code</th>\n",
       "      <th>place_country</th>\n",
       "      <th>place_contained_within</th>\n",
       "      <th>place_attributes</th>\n",
       "      <th>place_bounding_box</th>\n",
       "      <th>source_url</th>\n",
       "      <th>truncated</th>\n",
       "      <th>entities</th>\n",
       "      <th>extended_entities</th>\n",
       "    </tr>\n",
       "  </thead>\n",
       "  <tbody>\n",
       "    <tr>\n",
       "      <th>0</th>\n",
       "      <td>780925634159796224</td>\n",
       "      <td>HillaryClinton</td>\n",
       "      <td>The question in this election: Who can put the...</td>\n",
       "      <td>False</td>\n",
       "      <td>NaN</td>\n",
       "      <td>2016-09-28T00:22:34</td>\n",
       "      <td>NaN</td>\n",
       "      <td>NaN</td>\n",
       "      <td>NaN</td>\n",
       "      <td>False</td>\n",
       "      <td>...</td>\n",
       "      <td>NaN</td>\n",
       "      <td>NaN</td>\n",
       "      <td>NaN</td>\n",
       "      <td>NaN</td>\n",
       "      <td>NaN</td>\n",
       "      <td>NaN</td>\n",
       "      <td>https://studio.twitter.com</td>\n",
       "      <td>False</td>\n",
       "      <td>{'media': [{'display_url': 'pic.twitter.com/Xr...</td>\n",
       "      <td>{'media': [{'display_url': 'pic.twitter.com/Xr...</td>\n",
       "    </tr>\n",
       "    <tr>\n",
       "      <th>1</th>\n",
       "      <td>780916180899037184</td>\n",
       "      <td>HillaryClinton</td>\n",
       "      <td>Last night, Donald Trump said not paying taxes...</td>\n",
       "      <td>True</td>\n",
       "      <td>timkaine</td>\n",
       "      <td>2016-09-27T23:45:00</td>\n",
       "      <td>NaN</td>\n",
       "      <td>NaN</td>\n",
       "      <td>NaN</td>\n",
       "      <td>False</td>\n",
       "      <td>...</td>\n",
       "      <td>NaN</td>\n",
       "      <td>NaN</td>\n",
       "      <td>NaN</td>\n",
       "      <td>NaN</td>\n",
       "      <td>NaN</td>\n",
       "      <td>NaN</td>\n",
       "      <td>http://twitter.com</td>\n",
       "      <td>False</td>\n",
       "      <td>{'media': [{'display_url': 'pic.twitter.com/t0...</td>\n",
       "      <td>{'media': [{'display_url': 'pic.twitter.com/t0...</td>\n",
       "    </tr>\n",
       "    <tr>\n",
       "      <th>2</th>\n",
       "      <td>780911564857761793</td>\n",
       "      <td>HillaryClinton</td>\n",
       "      <td>Couldn't be more proud of @HillaryClinton. Her...</td>\n",
       "      <td>True</td>\n",
       "      <td>POTUS</td>\n",
       "      <td>2016-09-27T23:26:40</td>\n",
       "      <td>NaN</td>\n",
       "      <td>NaN</td>\n",
       "      <td>NaN</td>\n",
       "      <td>False</td>\n",
       "      <td>...</td>\n",
       "      <td>NaN</td>\n",
       "      <td>NaN</td>\n",
       "      <td>NaN</td>\n",
       "      <td>NaN</td>\n",
       "      <td>NaN</td>\n",
       "      <td>NaN</td>\n",
       "      <td>https://about.twitter.com/products/tweetdeck</td>\n",
       "      <td>False</td>\n",
       "      <td>{'user_mentions': [{'id_str': '1536791610', 'n...</td>\n",
       "      <td>NaN</td>\n",
       "    </tr>\n",
       "  </tbody>\n",
       "</table>\n",
       "<p>3 rows × 28 columns</p>\n",
       "</div>"
      ],
      "text/plain": [
       "                   id          handle  \\\n",
       "0  780925634159796224  HillaryClinton   \n",
       "1  780916180899037184  HillaryClinton   \n",
       "2  780911564857761793  HillaryClinton   \n",
       "\n",
       "                                                text  is_retweet  \\\n",
       "0  The question in this election: Who can put the...       False   \n",
       "1  Last night, Donald Trump said not paying taxes...        True   \n",
       "2  Couldn't be more proud of @HillaryClinton. Her...        True   \n",
       "\n",
       "  original_author                 time in_reply_to_screen_name  \\\n",
       "0             NaN  2016-09-28T00:22:34                     NaN   \n",
       "1        timkaine  2016-09-27T23:45:00                     NaN   \n",
       "2           POTUS  2016-09-27T23:26:40                     NaN   \n",
       "\n",
       "   in_reply_to_status_id  in_reply_to_user_id  is_quote_status  \\\n",
       "0                    NaN                  NaN            False   \n",
       "1                    NaN                  NaN            False   \n",
       "2                    NaN                  NaN            False   \n",
       "\n",
       "                         ...                         place_type  \\\n",
       "0                        ...                                NaN   \n",
       "1                        ...                                NaN   \n",
       "2                        ...                                NaN   \n",
       "\n",
       "   place_country_code  place_country  place_contained_within  \\\n",
       "0                 NaN            NaN                     NaN   \n",
       "1                 NaN            NaN                     NaN   \n",
       "2                 NaN            NaN                     NaN   \n",
       "\n",
       "   place_attributes place_bounding_box  \\\n",
       "0               NaN                NaN   \n",
       "1               NaN                NaN   \n",
       "2               NaN                NaN   \n",
       "\n",
       "                                     source_url truncated  \\\n",
       "0                    https://studio.twitter.com     False   \n",
       "1                            http://twitter.com     False   \n",
       "2  https://about.twitter.com/products/tweetdeck     False   \n",
       "\n",
       "                                            entities  \\\n",
       "0  {'media': [{'display_url': 'pic.twitter.com/Xr...   \n",
       "1  {'media': [{'display_url': 'pic.twitter.com/t0...   \n",
       "2  {'user_mentions': [{'id_str': '1536791610', 'n...   \n",
       "\n",
       "                                   extended_entities  \n",
       "0  {'media': [{'display_url': 'pic.twitter.com/Xr...  \n",
       "1  {'media': [{'display_url': 'pic.twitter.com/t0...  \n",
       "2                                                NaN  \n",
       "\n",
       "[3 rows x 28 columns]"
      ]
     },
     "execution_count": 318,
     "metadata": {},
     "output_type": "execute_result"
    }
   ],
   "source": [
    "hill_trump = pd.read_csv('https://raw.githubusercontent.com/xkong100/Data620_Team3/master/final_Project/tweets.csv')\n",
    "hill_trump.head(3)"
   ]
  },
  {
   "cell_type": "code",
   "execution_count": 217,
   "metadata": {},
   "outputs": [
    {
     "data": {
      "text/plain": [
       "['id', 'in_reply_to_status_id', 'in_reply_to_user_id', 'place_id']"
      ]
     },
     "execution_count": 217,
     "metadata": {},
     "output_type": "execute_result"
    }
   ],
   "source": [
    "#To get an idea of the original twitter database schema, we look for IDs\n",
    "unique_ids = [col for col in hill_trump.columns if 'id' in col]\n",
    "unique_ids"
   ]
  },
  {
   "cell_type": "code",
   "execution_count": 218,
   "metadata": {},
   "outputs": [
    {
     "data": {
      "text/plain": [
       "\"{'user_mentions': [{'id_str': '1536791610', 'name': 'President Obama', 'id': 1536791610, 'screen_name': 'POTUS', 'indices': [3, 9]}, {'id_str': '1339835893', 'name': 'Hillary Clinton', 'id': 1339835893, 'screen_name': 'HillaryClinton', 'indices': [37, 52]}], 'symbols': [], 'urls': [], 'hashtags': []}\""
      ]
     },
     "execution_count": 218,
     "metadata": {},
     "output_type": "execute_result"
    }
   ],
   "source": [
    "# Look like we can find retweeter IDs in the entities JSON\n",
    "hill_trump.iloc[2]['entities']"
   ]
  },
  {
   "cell_type": "markdown",
   "metadata": {},
   "source": [
    "### Since the purpose of my database is to be used for basic tweet analysis using an ORM library, I want to keep it minimalistic and clean. Lets remove unneeded fields. \n"
   ]
  },
  {
   "cell_type": "code",
   "execution_count": 18,
   "metadata": {},
   "outputs": [
    {
     "name": "stdout",
     "output_type": "stream",
     "text": [
      "id                            0\n",
      "handle                        0\n",
      "text                          0\n",
      "is_retweet                    0\n",
      "original_author            5722\n",
      "time                          0\n",
      "in_reply_to_screen_name    6236\n",
      "in_reply_to_status_id      6242\n",
      "in_reply_to_user_id        6236\n",
      "is_quote_status               0\n",
      "lang                          0\n",
      "retweet_count                 0\n",
      "favorite_count                0\n",
      "longitude                  6432\n",
      "latitude                   6432\n",
      "place_id                   6240\n",
      "place_full_name            6240\n",
      "place_name                 6240\n",
      "place_type                 6240\n",
      "place_country_code         6240\n",
      "place_country              6240\n",
      "place_contained_within     6240\n",
      "place_attributes           6240\n",
      "place_bounding_box         6240\n",
      "source_url                    0\n",
      "truncated                     0\n",
      "entities                      0\n",
      "extended_entities          5096\n",
      "dtype: int64\n"
     ]
    }
   ],
   "source": [
    "print(hill_trump.isnull().sum())"
   ]
  },
  {
   "cell_type": "code",
   "execution_count": 319,
   "metadata": {},
   "outputs": [
    {
     "name": "stdout",
     "output_type": "stream",
     "text": [
      "id                    0\n",
      "handle                0\n",
      "text                  0\n",
      "is_retweet            0\n",
      "original_author    5722\n",
      "time                  0\n",
      "is_quote_status       0\n",
      "lang                  0\n",
      "retweet_count         0\n",
      "favorite_count        0\n",
      "source_url            0\n",
      "truncated             0\n",
      "entities              0\n",
      "dtype: int64\n"
     ]
    }
   ],
   "source": [
    "keep = ['id','handle','text','is_retweet','original_author','time',\n",
    "        'is_quote_status','lang','retweet_count','favorite_count',\n",
    "        'source_url','truncated','entities']\n",
    "hill_trump = hill_trump[keep]\n",
    "print(hill_trump.isnull().sum())\n"
   ]
  },
  {
   "cell_type": "code",
   "execution_count": 320,
   "metadata": {},
   "outputs": [],
   "source": [
    "rt = hill_trump[hill_trump['is_retweet'] == True]\n",
    "userID = {}\n",
    "for index, row in rt.iterrows():\n",
    "    obj = ast.literal_eval(row['entities'])\n",
    "    for user in obj['user_mentions']:\n",
    "        userID[user['screen_name']] = user['id']\n",
    "\n",
    "#manual add Hill n Trump\n",
    "userID['realDonaldTrump'] = 25073877\n",
    "userID['HillaryClinton'] = 1339835893\n"
   ]
  },
  {
   "cell_type": "markdown",
   "metadata": {},
   "source": [
    "### Next dataset; the scraped tweets by other political sources\n"
   ]
  },
  {
   "cell_type": "code",
   "execution_count": 321,
   "metadata": {},
   "outputs": [
    {
     "data": {
      "text/plain": [
       "['Austin Hunt.csv',\n",
       " 'Barack Obama.csv',\n",
       " 'Barbara Boxer.csv',\n",
       " 'Barbara Kinney.csv',\n",
       " 'Ben Kesling.csv',\n",
       " 'Ben Shapiro.csv',\n",
       " 'Ben Smith.csv',\n",
       " 'Ben White.csv']"
      ]
     },
     "execution_count": 321,
     "metadata": {},
     "output_type": "execute_result"
    }
   ],
   "source": [
    "retweet_source_path = 'C:/Users/Exped/Desktop/SQL/retweets/'\n",
    "files_to_read = os.listdir(retweet_source_path)\n",
    "files_to_read[10:18]"
   ]
  },
  {
   "cell_type": "code",
   "execution_count": 322,
   "metadata": {},
   "outputs": [
    {
     "name": "stdout",
     "output_type": "stream",
     "text": [
      "Constance Zimmer.csv\n",
      "Error tokenizing data. C error: Buffer overflow caught - possible malformed input file.\n",
      "\n",
      "retweet_origin.csv\n",
      "Too many columns specified: expected 3 and found 1\n"
     ]
    }
   ],
   "source": [
    "retweet_sources = pd.DataFrame()\n",
    "for filename in files_to_read:\n",
    "    try:\n",
    "        exp = pd.read_csv(open(retweet_source_path+filename,'rb'),index_col=False,sep=';',names=['timestamp','sn','text'],header=0)\n",
    "        retweet_sources = pd.concat([retweet_sources, exp], ignore_index=True)\n",
    "    except Exception as e: \n",
    "        print(filename)\n",
    "        print(e)"
   ]
  },
  {
   "cell_type": "code",
   "execution_count": 236,
   "metadata": {},
   "outputs": [
    {
     "data": {
      "text/plain": [
       "array(['AdrianaCohen16', 'algore', 'AmandaRenteria', 'AndraDayMusic',\n",
       "       'AndrewJenks', 'AustinHunt', 'BarackObama', 'BarbaraBoxer',\n",
       "       'barb_kinney', 'bkesling', 'SenSanders', 'billclinton',\n",
       "       'BishopGarrison', 'BretEastonEllis', 'brianefallon',\n",
       "       'cameronesposito', 'Carl_C_Icahn', 'ChadHGriffin', 'ChelseaClinton',\n",
       "       'ChrisMurphyCT', 'clairecmc', 'ClintonFdn', 'CNBCnow',\n",
       "       'CNBCopinion', 'CollegeDems', 'RepTimRyan', 'CLewandowski_',\n",
       "       'CWAUnion', 'DanMalloyCT', 'DanScavino', 'DarrenJJordan',\n",
       "       'dmartosko', 'DemConvention', 'ddlovato', 'OhioPoliticsNow',\n",
       "       'dominiclowell', 'realDonaldTrump', 'DonaldJTrumpJr',\n",
       "       'RealBenCarson', 'robertjeffress', 'EconomicPolicy',\n",
       "       'ElizabethBanks', nan, 'feministabulous', 'SenWarren',\n",
       "       'StopBigMoney', 'EricTrump', 'ErinBurnett', 'Evan_McMullin',\n",
       "       'EveryVoice', 'Everytown', 'ezraklein', 'FieldofFight',\n",
       "       'funnyordie', 'GabbyGiffords', 'GavinNewsom', 'GeorgeTakei',\n",
       "       'GeraldoRivera', 'GOP', 'GovMikeHuckabee', 'gwenrocco',\n",
       "       'HamiltonMusical', 'HillaryClinton', 'HFA', 'HillaryforAZ',\n",
       "       'HillaryforCO', 'HillaryforFL', 'HillaryForGA', 'HillaryforIA',\n",
       "       'HillaryforMI', 'HillaryforNC', 'HillaryForNY', 'HillaryforNH',\n",
       "       'HillaryforOH', 'HillaryforPA', 'HillaryforUT', 'HillaryforVA',\n",
       "       'HillaryforWI', 'IGNITE_National', 'igorvolsky', 'IvankaTrump',\n",
       "       'jasoncollins98', 'jastengco', 'JeffFlake', 'jmpalmieri',\n",
       "       'jessetyler', 'JoeBiden', 'JoeNBC', 'repjohnlewis', 'johnpodesta',\n",
       "       'JohnStossel', 'jmurray20', 'RepJudyChu', 'jtimberlake',\n",
       "       'RepKClark', 'klyouell', 'KellyannePolls', 'kenvogel',\n",
       "       'SenGillibrand', 'kylerush', 'latimesopinion', 'LSD_Esq',\n",
       "       'IngrahamAngle', 'rosenbergerlm', 'LSherABC', 'lessig',\n",
       "       'librarycongress', 'LinkedIn', 'literally_trump', 'LizRomanoff',\n",
       "       'lorellapraeli', 'LouDobbs', 'madeleine', 'MalalaFund',\n",
       "       'marceelias', 'mcuban', 'MarkHalperin', 'IAFFTreg',\n",
       "       'MarlonDMarshall', 'maxlinsky', 'mayaharris_', 'Medium',\n",
       "       'MHarrisPerry', 'meredeetch', 'mpshapiro', 'MichelleWKwan',\n",
       "       'mike_pence', 'mikereedschmidt', 'MilitaryTimes', 'MittRomney',\n",
       "       'MoDemParty', 'albamonica', 'Morning_Joe', 'newtgingrich', 'NFIB',\n",
       "       'NickMerrill', 'NRA', 'TeamTrump', 'postpolitics', 'POTUS', 'Quora',\n",
       "       'RachaelGass', 'RanaForoohar', 'Reince', 'RepDanKildee',\n",
       "       'RepJohnLarson', 'RevDrBarber', 'rhettbuttle', 'RSBNetwork',\n",
       "       'RepRubenGallego', 'rupertmurdoch', 'RyanLizza', 'sarajacobs89',\n",
       "       'sarasolow', 'SarahEMcBride', 'seanhannity', 'SenatorBaldwin',\n",
       "       'SenatorReid', 'timkaine', 'SherrodBrown', 'shondarhimes',\n",
       "       'AmbassadorRice', 'TalleySergent', 'tedcruz', 'TheAdvocateMag',\n",
       "       'TheBriefing2016', 'TheDemocrats', 'WhiteHouse', 'TJMShow',\n",
       "       'tyleroakley', 'USNewsOpinion', 'USPS', 'UAW', 'UltraViolet',\n",
       "       'WesleyLowery', 'williebosshog', 'Wonkblog', 'RepBecerra', 'Yamiche'], dtype=object)"
      ]
     },
     "execution_count": 236,
     "metadata": {},
     "output_type": "execute_result"
    }
   ],
   "source": [
    "retweet_sources['sn'].unique()"
   ]
  },
  {
   "cell_type": "code",
   "execution_count": 323,
   "metadata": {},
   "outputs": [],
   "source": [
    "retweet_sources.columns = ['timestamp','screen_name','text']"
   ]
  },
  {
   "cell_type": "code",
   "execution_count": 324,
   "metadata": {},
   "outputs": [
    {
     "data": {
      "text/html": [
       "<div>\n",
       "<style>\n",
       "    .dataframe thead tr:only-child th {\n",
       "        text-align: right;\n",
       "    }\n",
       "\n",
       "    .dataframe thead th {\n",
       "        text-align: left;\n",
       "    }\n",
       "\n",
       "    .dataframe tbody tr th {\n",
       "        vertical-align: top;\n",
       "    }\n",
       "</style>\n",
       "<table border=\"1\" class=\"dataframe\">\n",
       "  <thead>\n",
       "    <tr style=\"text-align: right;\">\n",
       "      <th></th>\n",
       "      <th>id</th>\n",
       "      <th>handle</th>\n",
       "      <th>text</th>\n",
       "      <th>is_retweet</th>\n",
       "      <th>original_author</th>\n",
       "      <th>time</th>\n",
       "      <th>is_quote_status</th>\n",
       "      <th>lang</th>\n",
       "      <th>retweet_count</th>\n",
       "      <th>favorite_count</th>\n",
       "      <th>source_url</th>\n",
       "      <th>truncated</th>\n",
       "      <th>entities</th>\n",
       "      <th>timestamp</th>\n",
       "    </tr>\n",
       "  </thead>\n",
       "  <tbody>\n",
       "    <tr>\n",
       "      <th>0</th>\n",
       "      <td>780925634159796224</td>\n",
       "      <td>HillaryClinton</td>\n",
       "      <td>The question in this election: Who can put the...</td>\n",
       "      <td>False</td>\n",
       "      <td>NaN</td>\n",
       "      <td>2016-09-28T00:22:34</td>\n",
       "      <td>False</td>\n",
       "      <td>en</td>\n",
       "      <td>218</td>\n",
       "      <td>651</td>\n",
       "      <td>https://studio.twitter.com</td>\n",
       "      <td>False</td>\n",
       "      <td>{'media': [{'display_url': 'pic.twitter.com/Xr...</td>\n",
       "      <td>2016-09-28 00:22:34</td>\n",
       "    </tr>\n",
       "    <tr>\n",
       "      <th>1</th>\n",
       "      <td>780916180899037184</td>\n",
       "      <td>HillaryClinton</td>\n",
       "      <td>Last night, Donald Trump said not paying taxes...</td>\n",
       "      <td>True</td>\n",
       "      <td>timkaine</td>\n",
       "      <td>2016-09-27T23:45:00</td>\n",
       "      <td>False</td>\n",
       "      <td>en</td>\n",
       "      <td>2445</td>\n",
       "      <td>5308</td>\n",
       "      <td>http://twitter.com</td>\n",
       "      <td>False</td>\n",
       "      <td>{'media': [{'display_url': 'pic.twitter.com/t0...</td>\n",
       "      <td>2016-09-27 23:45:00</td>\n",
       "    </tr>\n",
       "    <tr>\n",
       "      <th>2</th>\n",
       "      <td>780911564857761793</td>\n",
       "      <td>HillaryClinton</td>\n",
       "      <td>Couldn't be more proud of @HillaryClinton. Her...</td>\n",
       "      <td>True</td>\n",
       "      <td>POTUS</td>\n",
       "      <td>2016-09-27T23:26:40</td>\n",
       "      <td>False</td>\n",
       "      <td>en</td>\n",
       "      <td>7834</td>\n",
       "      <td>27234</td>\n",
       "      <td>https://about.twitter.com/products/tweetdeck</td>\n",
       "      <td>False</td>\n",
       "      <td>{'user_mentions': [{'id_str': '1536791610', 'n...</td>\n",
       "      <td>2016-09-27 23:26:40</td>\n",
       "    </tr>\n",
       "    <tr>\n",
       "      <th>3</th>\n",
       "      <td>780907038650068994</td>\n",
       "      <td>HillaryClinton</td>\n",
       "      <td>If we stand together, there's nothing we can't...</td>\n",
       "      <td>False</td>\n",
       "      <td>NaN</td>\n",
       "      <td>2016-09-27T23:08:41</td>\n",
       "      <td>False</td>\n",
       "      <td>en</td>\n",
       "      <td>916</td>\n",
       "      <td>2542</td>\n",
       "      <td>https://studio.twitter.com</td>\n",
       "      <td>False</td>\n",
       "      <td>{'media': [{'display_url': 'pic.twitter.com/Q3...</td>\n",
       "      <td>2016-09-27 23:08:41</td>\n",
       "    </tr>\n",
       "  </tbody>\n",
       "</table>\n",
       "</div>"
      ],
      "text/plain": [
       "                   id          handle  \\\n",
       "0  780925634159796224  HillaryClinton   \n",
       "1  780916180899037184  HillaryClinton   \n",
       "2  780911564857761793  HillaryClinton   \n",
       "3  780907038650068994  HillaryClinton   \n",
       "\n",
       "                                                text  is_retweet  \\\n",
       "0  The question in this election: Who can put the...       False   \n",
       "1  Last night, Donald Trump said not paying taxes...        True   \n",
       "2  Couldn't be more proud of @HillaryClinton. Her...        True   \n",
       "3  If we stand together, there's nothing we can't...       False   \n",
       "\n",
       "  original_author                 time  is_quote_status lang  retweet_count  \\\n",
       "0             NaN  2016-09-28T00:22:34            False   en            218   \n",
       "1        timkaine  2016-09-27T23:45:00            False   en           2445   \n",
       "2           POTUS  2016-09-27T23:26:40            False   en           7834   \n",
       "3             NaN  2016-09-27T23:08:41            False   en            916   \n",
       "\n",
       "   favorite_count                                    source_url  truncated  \\\n",
       "0             651                    https://studio.twitter.com      False   \n",
       "1            5308                            http://twitter.com      False   \n",
       "2           27234  https://about.twitter.com/products/tweetdeck      False   \n",
       "3            2542                    https://studio.twitter.com      False   \n",
       "\n",
       "                                            entities           timestamp  \n",
       "0  {'media': [{'display_url': 'pic.twitter.com/Xr... 2016-09-28 00:22:34  \n",
       "1  {'media': [{'display_url': 'pic.twitter.com/t0... 2016-09-27 23:45:00  \n",
       "2  {'user_mentions': [{'id_str': '1536791610', 'n... 2016-09-27 23:26:40  \n",
       "3  {'media': [{'display_url': 'pic.twitter.com/Q3... 2016-09-27 23:08:41  "
      ]
     },
     "execution_count": 324,
     "metadata": {},
     "output_type": "execute_result"
    }
   ],
   "source": [
    "retweet_sources['id'] = retweet_sources['screen_name'].map(userID)\n",
    "retweet_sources['timestamp'] = pd.to_datetime(retweet_sources['timestamp'],errors='coerce')\n",
    "retweet_sources = retweet_sources.dropna(subset=['timestamp'])\n",
    "hill_trump['timestamp'] = pd.to_datetime(hill_trump['time'])\n",
    "hill_trump.head(4)"
   ]
  },
  {
   "cell_type": "code",
   "execution_count": 325,
   "metadata": {},
   "outputs": [],
   "source": [
    "hill_trump.columns = ['tweet_id','screen_name','tweet','is_retweet','original_author','garbage','is_quote_status','lang','retweet_count','favorite_count','source_url','truncated','entities','timestamp']\n",
    "hill_trump = hill_trump.drop(['garbage'], axis=1)"
   ]
  },
  {
   "cell_type": "code",
   "execution_count": 326,
   "metadata": {},
   "outputs": [
    {
     "data": {
      "text/html": [
       "<div>\n",
       "<style>\n",
       "    .dataframe thead tr:only-child th {\n",
       "        text-align: right;\n",
       "    }\n",
       "\n",
       "    .dataframe thead th {\n",
       "        text-align: left;\n",
       "    }\n",
       "\n",
       "    .dataframe tbody tr th {\n",
       "        vertical-align: top;\n",
       "    }\n",
       "</style>\n",
       "<table border=\"1\" class=\"dataframe\">\n",
       "  <thead>\n",
       "    <tr style=\"text-align: right;\">\n",
       "      <th></th>\n",
       "      <th>timestamp</th>\n",
       "      <th>screen_name</th>\n",
       "      <th>tweet</th>\n",
       "      <th>user_id</th>\n",
       "    </tr>\n",
       "  </thead>\n",
       "  <tbody>\n",
       "    <tr>\n",
       "      <th>0</th>\n",
       "      <td>2017-02-01 03:26:33</td>\n",
       "      <td>AdrianaCohen16</td>\n",
       "      <td>@CNNPolitics Said none of the millions of Amer...</td>\n",
       "      <td>1.628841e+09</td>\n",
       "    </tr>\n",
       "  </tbody>\n",
       "</table>\n",
       "</div>"
      ],
      "text/plain": [
       "            timestamp     screen_name  \\\n",
       "0 2017-02-01 03:26:33  AdrianaCohen16   \n",
       "\n",
       "                                               tweet       user_id  \n",
       "0  @CNNPolitics Said none of the millions of Amer...  1.628841e+09  "
      ]
     },
     "execution_count": 326,
     "metadata": {},
     "output_type": "execute_result"
    }
   ],
   "source": [
    "retweet_sources.columns = ['timestamp','screen_name','tweet','user_id']\n",
    "retweet_sources.head(1)"
   ]
  },
  {
   "cell_type": "code",
   "execution_count": 327,
   "metadata": {
    "collapsed": true
   },
   "outputs": [],
   "source": [
    "tweets = pd.concat([hill_trump,retweet_sources], axis=0, ignore_index=True)\n",
    "tweets['user_id'] = tweets['screen_name'].map(userID)"
   ]
  },
  {
   "cell_type": "code",
   "execution_count": 328,
   "metadata": {},
   "outputs": [
    {
     "data": {
      "text/html": [
       "<div>\n",
       "<style>\n",
       "    .dataframe thead tr:only-child th {\n",
       "        text-align: right;\n",
       "    }\n",
       "\n",
       "    .dataframe thead th {\n",
       "        text-align: left;\n",
       "    }\n",
       "\n",
       "    .dataframe tbody tr th {\n",
       "        vertical-align: top;\n",
       "    }\n",
       "</style>\n",
       "<table border=\"1\" class=\"dataframe\">\n",
       "  <thead>\n",
       "    <tr style=\"text-align: right;\">\n",
       "      <th></th>\n",
       "      <th>entities</th>\n",
       "      <th>favorite_count</th>\n",
       "      <th>is_quote_status</th>\n",
       "      <th>is_retweet</th>\n",
       "      <th>lang</th>\n",
       "      <th>original_author</th>\n",
       "      <th>retweet_count</th>\n",
       "      <th>screen_name</th>\n",
       "      <th>source_url</th>\n",
       "      <th>timestamp</th>\n",
       "      <th>truncated</th>\n",
       "      <th>tweet</th>\n",
       "      <th>tweet_id</th>\n",
       "      <th>user_id</th>\n",
       "    </tr>\n",
       "  </thead>\n",
       "  <tbody>\n",
       "    <tr>\n",
       "      <th>0</th>\n",
       "      <td>{'media': [{'display_url': 'pic.twitter.com/Xr...</td>\n",
       "      <td>651.0</td>\n",
       "      <td>False</td>\n",
       "      <td>False</td>\n",
       "      <td>en</td>\n",
       "      <td>NaN</td>\n",
       "      <td>218.0</td>\n",
       "      <td>HillaryClinton</td>\n",
       "      <td>https://studio.twitter.com</td>\n",
       "      <td>2016-09-28 00:22:34</td>\n",
       "      <td>False</td>\n",
       "      <td>The question in this election: Who can put the...</td>\n",
       "      <td>7.809256e+17</td>\n",
       "      <td>1339835893</td>\n",
       "    </tr>\n",
       "    <tr>\n",
       "      <th>1</th>\n",
       "      <td>{'media': [{'display_url': 'pic.twitter.com/t0...</td>\n",
       "      <td>5308.0</td>\n",
       "      <td>False</td>\n",
       "      <td>True</td>\n",
       "      <td>en</td>\n",
       "      <td>timkaine</td>\n",
       "      <td>2445.0</td>\n",
       "      <td>HillaryClinton</td>\n",
       "      <td>http://twitter.com</td>\n",
       "      <td>2016-09-27 23:45:00</td>\n",
       "      <td>False</td>\n",
       "      <td>Last night, Donald Trump said not paying taxes...</td>\n",
       "      <td>7.809162e+17</td>\n",
       "      <td>1339835893</td>\n",
       "    </tr>\n",
       "    <tr>\n",
       "      <th>2</th>\n",
       "      <td>{'user_mentions': [{'id_str': '1536791610', 'n...</td>\n",
       "      <td>27234.0</td>\n",
       "      <td>False</td>\n",
       "      <td>True</td>\n",
       "      <td>en</td>\n",
       "      <td>POTUS</td>\n",
       "      <td>7834.0</td>\n",
       "      <td>HillaryClinton</td>\n",
       "      <td>https://about.twitter.com/products/tweetdeck</td>\n",
       "      <td>2016-09-27 23:26:40</td>\n",
       "      <td>False</td>\n",
       "      <td>Couldn't be more proud of @HillaryClinton. Her...</td>\n",
       "      <td>7.809116e+17</td>\n",
       "      <td>1339835893</td>\n",
       "    </tr>\n",
       "    <tr>\n",
       "      <th>3</th>\n",
       "      <td>{'media': [{'display_url': 'pic.twitter.com/Q3...</td>\n",
       "      <td>2542.0</td>\n",
       "      <td>False</td>\n",
       "      <td>False</td>\n",
       "      <td>en</td>\n",
       "      <td>NaN</td>\n",
       "      <td>916.0</td>\n",
       "      <td>HillaryClinton</td>\n",
       "      <td>https://studio.twitter.com</td>\n",
       "      <td>2016-09-27 23:08:41</td>\n",
       "      <td>False</td>\n",
       "      <td>If we stand together, there's nothing we can't...</td>\n",
       "      <td>7.809070e+17</td>\n",
       "      <td>1339835893</td>\n",
       "    </tr>\n",
       "  </tbody>\n",
       "</table>\n",
       "</div>"
      ],
      "text/plain": [
       "                                            entities  favorite_count  \\\n",
       "0  {'media': [{'display_url': 'pic.twitter.com/Xr...           651.0   \n",
       "1  {'media': [{'display_url': 'pic.twitter.com/t0...          5308.0   \n",
       "2  {'user_mentions': [{'id_str': '1536791610', 'n...         27234.0   \n",
       "3  {'media': [{'display_url': 'pic.twitter.com/Q3...          2542.0   \n",
       "\n",
       "  is_quote_status is_retweet lang original_author  retweet_count  \\\n",
       "0           False      False   en             NaN          218.0   \n",
       "1           False       True   en        timkaine         2445.0   \n",
       "2           False       True   en           POTUS         7834.0   \n",
       "3           False      False   en             NaN          916.0   \n",
       "\n",
       "      screen_name                                    source_url  \\\n",
       "0  HillaryClinton                    https://studio.twitter.com   \n",
       "1  HillaryClinton                            http://twitter.com   \n",
       "2  HillaryClinton  https://about.twitter.com/products/tweetdeck   \n",
       "3  HillaryClinton                    https://studio.twitter.com   \n",
       "\n",
       "            timestamp truncated  \\\n",
       "0 2016-09-28 00:22:34     False   \n",
       "1 2016-09-27 23:45:00     False   \n",
       "2 2016-09-27 23:26:40     False   \n",
       "3 2016-09-27 23:08:41     False   \n",
       "\n",
       "                                               tweet      tweet_id     user_id  \n",
       "0  The question in this election: Who can put the...  7.809256e+17  1339835893  \n",
       "1  Last night, Donald Trump said not paying taxes...  7.809162e+17  1339835893  \n",
       "2  Couldn't be more proud of @HillaryClinton. Her...  7.809116e+17  1339835893  \n",
       "3  If we stand together, there's nothing we can't...  7.809070e+17  1339835893  "
      ]
     },
     "execution_count": 328,
     "metadata": {},
     "output_type": "execute_result"
    }
   ],
   "source": [
    "tweets.head(4)"
   ]
  },
  {
   "cell_type": "code",
   "execution_count": 329,
   "metadata": {},
   "outputs": [],
   "source": [
    "users = tweets[['screen_name','user_id']]\n",
    "tweets = tweets[['tweet_id','screen_name','tweet','is_retweet','original_author','timestamp']]"
   ]
  },
  {
   "cell_type": "code",
   "execution_count": 330,
   "metadata": {},
   "outputs": [
    {
     "data": {
      "text/plain": [
       "Index(['screen_name', 'user_id'], dtype='object')"
      ]
     },
     "execution_count": 330,
     "metadata": {},
     "output_type": "execute_result"
    }
   ],
   "source": [
    "users = users.drop_duplicates()\n",
    "users.columns"
   ]
  },
  {
   "cell_type": "code",
   "execution_count": 331,
   "metadata": {},
   "outputs": [
    {
     "data": {
      "text/plain": [
       "Index(['tweet_id', 'screen_name', 'tweet', 'is_retweet', 'original_author',\n",
       "       'timestamp'],\n",
       "      dtype='object')"
      ]
     },
     "execution_count": 331,
     "metadata": {},
     "output_type": "execute_result"
    }
   ],
   "source": [
    "tweets = tweets.drop_duplicates(subset='timestamp')\n",
    "tweets.columns"
   ]
  },
  {
   "cell_type": "markdown",
   "metadata": {},
   "source": [
    "# SQL \n",
    "\n",
    "\n"
   ]
  },
  {
   "cell_type": "code",
   "execution_count": 355,
   "metadata": {},
   "outputs": [
    {
     "name": "stdout",
     "output_type": "stream",
     "text": [
      "2.6.0\n"
     ]
    }
   ],
   "source": [
    "#Creates a connection to an existing database, or creates a new one if doesn't exist\n",
    "conn = sqlite3.connect('SQLite/twitter.db')\n",
    "print(sqlite3.version)\n"
   ]
  },
  {
   "cell_type": "markdown",
   "metadata": {},
   "source": [
    "# We want to include all the tweets with minimal redundancy;\n",
    "## We'll create two tables; one to hold users, the other to hold tweets\n",
    "## Primary keys, user-ID."
   ]
  },
  {
   "cell_type": "code",
   "execution_count": 356,
   "metadata": {},
   "outputs": [
    {
     "data": {
      "text/plain": [
       "<sqlite3.Cursor at 0x19bdc2d0b20>"
      ]
     },
     "execution_count": 356,
     "metadata": {},
     "output_type": "execute_result"
    }
   ],
   "source": [
    "c = conn.cursor()\n",
    "c.execute(\"\"\"CREATE TABLE IF NOT EXISTS users (\n",
    "                    screen_name text NOT NULL PRIMARY KEY,\n",
    "                    user_id integer NOT NULL)\"\"\")\n",
    "\n",
    "c.execute(\"\"\"CREATE TABLE IF NOT EXISTS tweets (\n",
    "                    tweet_id integer,\n",
    "                    screen_name text NOT NULL,\n",
    "                    tweet text NOT NULL,\n",
    "                    is_retweet integer,\n",
    "                    original_author text,\n",
    "                    timestamp integer,\n",
    "                    FOREIGN KEY (screen_name) REFERENCES users);\"\"\")"
   ]
  },
  {
   "cell_type": "code",
   "execution_count": 357,
   "metadata": {
    "scrolled": false
   },
   "outputs": [],
   "source": [
    "engine = create_engine('sqlite:///SQLite/twitter.db')\n",
    "tweets.to_sql('tweets',con=engine,if_exists='append',index=False)\n"
   ]
  },
  {
   "cell_type": "code",
   "execution_count": 358,
   "metadata": {},
   "outputs": [],
   "source": [
    "users.to_sql('users',con=engine,if_exists='append',index=False)"
   ]
  },
  {
   "cell_type": "markdown",
   "metadata": {},
   "source": [
    "# Lets compare SQL to Pandas\n",
    "\n",
    "## The WHERE clause\n",
    "\n",
    "## If I wanted to find all of Hillary's retweets, I'd use SELECT and WHERE\n",
    "\n",
    "#### SELECT * (Give me all)\n",
    "#### FROM tweets (The table known as 'tweets')\n",
    "#### WHERE is_retweet = 1 (Only where retweet = 1 (True))\n",
    "#### AND screen_name = 'HillaryClinton'\n",
    "\n",
    "<img src=\"https://github.com/parastyle/SQL-Mini/blob/master/SQLite/1.PNG?raw=true\">\n",
    "\n",
    "## How would we do that in pandas?\n",
    "\n",
    "### Create a subset based on the constraints"
   ]
  },
  {
   "cell_type": "code",
   "execution_count": 365,
   "metadata": {},
   "outputs": [
    {
     "data": {
      "text/html": [
       "<div>\n",
       "<style>\n",
       "    .dataframe thead tr:only-child th {\n",
       "        text-align: right;\n",
       "    }\n",
       "\n",
       "    .dataframe thead th {\n",
       "        text-align: left;\n",
       "    }\n",
       "\n",
       "    .dataframe tbody tr th {\n",
       "        vertical-align: top;\n",
       "    }\n",
       "</style>\n",
       "<table border=\"1\" class=\"dataframe\">\n",
       "  <thead>\n",
       "    <tr style=\"text-align: right;\">\n",
       "      <th></th>\n",
       "      <th>tweet_id</th>\n",
       "      <th>screen_name</th>\n",
       "      <th>tweet</th>\n",
       "      <th>is_retweet</th>\n",
       "      <th>original_author</th>\n",
       "      <th>timestamp</th>\n",
       "    </tr>\n",
       "  </thead>\n",
       "  <tbody>\n",
       "    <tr>\n",
       "      <th>1</th>\n",
       "      <td>7.809162e+17</td>\n",
       "      <td>HillaryClinton</td>\n",
       "      <td>Last night, Donald Trump said not paying taxes...</td>\n",
       "      <td>True</td>\n",
       "      <td>timkaine</td>\n",
       "      <td>2016-09-27 23:45:00</td>\n",
       "    </tr>\n",
       "  </tbody>\n",
       "</table>\n",
       "</div>"
      ],
      "text/plain": [
       "       tweet_id     screen_name  \\\n",
       "1  7.809162e+17  HillaryClinton   \n",
       "\n",
       "                                               tweet is_retweet  \\\n",
       "1  Last night, Donald Trump said not paying taxes...       True   \n",
       "\n",
       "  original_author           timestamp  \n",
       "1        timkaine 2016-09-27 23:45:00  "
      ]
     },
     "execution_count": 365,
     "metadata": {},
     "output_type": "execute_result"
    }
   ],
   "source": [
    "ex1 = tweets[(tweets['screen_name']=='HillaryClinton') & (tweets['is_retweet']==1)]\n",
    "ex1.head(1)"
   ]
  },
  {
   "cell_type": "markdown",
   "metadata": {},
   "source": [
    "# Find a frequent something; a customer or event\n",
    "\n",
    "## I would use the GROUP and ORDER clauses to find frequency\n",
    "\n",
    "## Say I wanted to find out who, was the 2nd most retweeted by Trump\n",
    "\n",
    "#### SELECT original_author\n",
    "#### FROM tweets\n",
    "#### WHERE screen_name = 'realDonaldTrump'\n",
    "#### AND is_retweet = 1\n",
    "#### GROUP BY original_author\n",
    "#### ORDER BY COUNT(*) DESC (Use the count function for frequency, have results descend)\n",
    "#### LIMIT 2; (The name on the bottom of this list will be the second most frequently retweeted by Trump\n",
    "\n",
    "<img src=\"https://github.com/parastyle/SQL-Mini/blob/master/SQLite/2.PNG?raw=true\">\n",
    "\n",
    "## How would we do that in pandas?\n",
    "\n",
    "### Create a subset based on the constraints, but since pandas doesn't use simple english clauses, its good convention to do this out in a couple steps so people can interpret what you've done.  \n"
   ]
  },
  {
   "cell_type": "code",
   "execution_count": 379,
   "metadata": {},
   "outputs": [
    {
     "data": {
      "text/plain": [
       "EricTrump        17\n",
       "DRUDGE_REPORT     9\n",
       "Name: original_author, dtype: int64"
      ]
     },
     "execution_count": 379,
     "metadata": {},
     "output_type": "execute_result"
    }
   ],
   "source": [
    "step1 = tweets[(tweets['is_retweet']==True) & (tweets['screen_name']=='realDonaldTrump')]\n",
    "step2 = step1['original_author'].value_counts()[:2]\n",
    "step2"
   ]
  }
 ],
 "metadata": {
  "kernelspec": {
   "display_name": "Python 3",
   "language": "python",
   "name": "python3"
  },
  "language_info": {
   "codemirror_mode": {
    "name": "ipython",
    "version": 3
   },
   "file_extension": ".py",
   "mimetype": "text/x-python",
   "name": "python",
   "nbconvert_exporter": "python",
   "pygments_lexer": "ipython3",
   "version": "3.6.1"
  }
 },
 "nbformat": 4,
 "nbformat_minor": 2
}
